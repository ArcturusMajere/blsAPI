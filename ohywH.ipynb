{
  "nbformat": 4,
  "nbformat_minor": 0,
  "metadata": {
    "colab": {
      "provenance": [],
      "authorship_tag": "ABX9TyMALjAFhS3Te3/fxZqhtMGp",
      "include_colab_link": true
    },
    "kernelspec": {
      "name": "python3",
      "display_name": "Python 3"
    },
    "language_info": {
      "name": "python"
    }
  },
  "cells": [
    {
      "cell_type": "markdown",
      "metadata": {
        "id": "view-in-github",
        "colab_type": "text"
      },
      "source": [
        "<a href=\"https://colab.research.google.com/github/ArcturusMajere/blsAPI/blob/master/ohywH.ipynb\" target=\"_parent\"><img src=\"https://colab.research.google.com/assets/colab-badge.svg\" alt=\"Open In Colab\"/></a>"
      ]
    },
    {
      "cell_type": "code",
      "execution_count": 3,
      "metadata": {
        "id": "WnvE2OS2rEzR"
      },
      "outputs": [],
      "source": [
        "import oracledb;import polars as pl;import getpass\n",
        "\n",
        "password = getpass.getpass(\"Gimme creds: \")\n",
        "host= \"host/port/service/oracle\"\n",
        "connection = oracledb.connect(user=\"FOOL\", password=password,dsn=host)\n",
        "def query_data(year, quarter, state, user, password, host):\n",
        "    try:\n",
        "        connection = oracledb.connect(user=user, password=password, dsn=dsn)\n",
        "        #connection = oracledb.connect(\"hr/userpwd@localhost/orclpdb\")\n",
        "        #connection = oracledb.connect(\"hr/userpwd@host\")\n",
        "        query = f\"\"\"\n",
        "        SELECT * FROM your_table\n",
        "        WHERE year = :year AND quarter = :quarter AND state = :state\n",
        "        \"\"\"\n",
        "        with connection.cursor() as cursor:\n",
        "            cursor.execute(query, [year, quarter, state])\n",
        "            result = cursor.fetchall()\n",
        "            columns = [col[0] for col in cursor.description]\n",
        "\n",
        "        df = pl.DataFrame(result, schema=columns)\n",
        "        return df\n",
        "    except Exception as e:\n",
        "        print(f\"HAHA give up cuz: {e}\")\n",
        "    finally:\n",
        "        connection.close()\n"
      ]
    },
    {
      "cell_type": "code",
      "source": [
        "import oracledb\n",
        "import polars as pl\n",
        "from sshfs import mount\n",
        "\n",
        "def query_and_merge_data(year, quarter, state, user, password, dsn, remote_host, remote_user, remote_password, remote_path, local_mount_path):\n",
        "    \"\"\"\n",
        "    Query database, incorporate data from a remote Parquet file, and merge dataframes by ID.\n",
        "\n",
        "    Args:\n",
        "    year (int): The year to filter the data.\n",
        "    quarter (int): The quarter to filter the data.\n",
        "    state (str): The state to filter the data.\n",
        "    user (str): Database username.\n",
        "    password (str): Database password.\n",
        "    dsn (str): Data Source Name for Oracle connection.\n",
        "    remote_host (str): Hostname of the remote server.\n",
        "    remote_user (str): Username for SSH to the remote server.\n",
        "    remote_password (str): Password for SSH to the remote server.\n",
        "    remote_path (str): Path to the directory on the remote server containing the Parquet file.\n",
        "    local_mount_path (str): Local path to mount the remote directory.\n",
        "\n",
        "    Returns:\n",
        "    pl.DataFrame: Data frame containing the merged data.\n",
        "    \"\"\"\n",
        "    try:\n",
        "        # Mount the remote directory\n",
        "        with mount(remote_host, remote_user, password=remote_password, mountpoint=local_mount_path):\n",
        "            # Read a Parquet file from the mounted directory\n",
        "            remote_data = pl.read_parquet(f\"{local_mount_path}/yourfile.parquet\")\n",
        "\n",
        "        # Connect to the Oracle database\n",
        "        connection = oracledb.connect(user=user, password=password, dsn=dsn)\n",
        "\n",
        "        # Define the SQL query\n",
        "        query = f\"\"\"\n",
        "        SELECT * FROM your_table_name\n",
        "        WHERE year = :year AND quarter = :quarter AND state = :state\n",
        "        \"\"\"\n",
        "\n",
        "        # Execute the query and fetch the results\n",
        "        with connection.cursor() as cursor:\n",
        "            cursor.execute(query, [year, quarter, state])\n",
        "            result = cursor.fetchall()\n",
        "            columns = [col[0] for col in cursor.description]\n",
        "\n",
        "        # Create a Polars DataFrame from database results\n",
        "        db_data = pl.DataFrame(result, schema=columns)\n",
        "\n",
        "        # Merge DataFrames on the 'ID' column\n",
        "        merged_data = db_data.join(remote_data, on=\"ID\", how=\"inner\")\n",
        "\n",
        "        return merged_data\n",
        "    except Exception as e:\n",
        "        print(f\"An error occurred: {e}\")\n",
        "    finally:\n",
        "        # Close the connection if it is open\n",
        "        if 'connection' in locals():\n",
        "            connection.close()\n",
        "\n",
        "# Example usage\n",
        "dsn = \"host/port/service_name\"\n",
        "remote_host = \"example.com\"\n",
        "remote_user = \"remote_username\"\n",
        "remote_password = \"remote_password\"\n",
        "remote_path = \"/path/to/remote/directory\"\n",
        "local_mount_path = \"/local/mount/point\"\n",
        "\n",
        "merged_data = query_and_merge_data(2022, 1, 'NY', 'username', 'password', dsn, remote_host, remote_user, remote_password, remote_path, local_mount_path)\n",
        "print(merged_data)\n"
      ],
      "metadata": {
        "id": "KW2S3ULx44z4"
      },
      "execution_count": null,
      "outputs": []
    },
    {
      "cell_type": "code",
      "source": [
        "import oracledb\n",
        "import polars as pl\n",
        "from sshfs import mount\n",
        "\n",
        "def LOOK(year, quarter, state, user, password, oraclehost, parquet_host, SSH_user, SSH_password, remote_path, local_mount_path):\n",
        "\n",
        "    try:\n",
        "        with mount(remote_host, SSH_user, password=SSH_password, mountpoint=parquet_mount_path):\n",
        "            remote_data = pl.read_parquet(f\"{local_mount_path}/file.parquet\")\n",
        "\n",
        "        connection = oracledb.connect(user=user, password=password, dsn=oraclehost)\n",
        "\n",
        "        query = f\"\"\"\n",
        "        SELECT * FROM your_table\n",
        "        WHERE year = :year AND quarter = :quarter AND state = :state\n",
        "        \"\"\"\n",
        "        with connection.cursor() as cursor:\n",
        "            cursor.execute(query, [year, quarter, state])\n",
        "            result = cursor.fetchall()\n",
        "            columns = [col[0] for col in cursor.description]\n",
        "        db_data = pl.DataFrame(result, schema=columns)\n",
        "        merged_data = db_data.join(remote_data, on=\"ID\", how=\"inner\")\n",
        "\n",
        "        return merged_data\n",
        "    except Exception as e:\n",
        "        print(f\"HAHA fool: {e}\")\n",
        "    finally:\n",
        "        if 'connection' in locals():\n",
        "            connection.close()\n",
        "\n",
        "\n",
        "LOOK(2022, 1, 'NY', 'username', 'password', dsn, remote_host, remote_user, remote_password, remote_path, local_mount_path)\n",
        "\n"
      ],
      "metadata": {
        "id": "ZoBd1RA0sjMj"
      },
      "execution_count": null,
      "outputs": []
    }
  ]
}